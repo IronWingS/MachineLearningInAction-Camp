{
 "cells": [
  {
   "cell_type": "code",
   "execution_count": 1,
   "metadata": {},
   "outputs": [],
   "source": [
    "import numpy as np"
   ]
  },
  {
   "cell_type": "code",
   "execution_count": 2,
   "metadata": {},
   "outputs": [],
   "source": [
    "def loadSimpData():\n",
    "    datMat = np.matrix([[1.,2.1],\n",
    "                        [2.,1.1],\n",
    "                        [1.3,1.],\n",
    "                        [1.,1.],\n",
    "                        [2.,1.]])\n",
    "    classLabels = [1.0,1.0,-1.0,-1.0,1.0]\n",
    "    return datMat,classLabels"
   ]
  },
  {
   "cell_type": "code",
   "execution_count": 20,
   "metadata": {},
   "outputs": [],
   "source": [
    "def stumpClassify(dataMatrix,dimen,threshVal,threshIneq):\n",
    "    retArray = np.ones((np.shape(dataMatrix)[0],1))\n",
    "    if threshIneq == 'It':\n",
    "        retArray[dataMatrix[:,dimen] <= threshVal] = -1.0\n",
    "    else:\n",
    "        retArray[dataMatrix[:,dimen] > threshVal] = -1.0\n",
    "    return retArray"
   ]
  },
  {
   "cell_type": "code",
   "execution_count": 32,
   "metadata": {},
   "outputs": [],
   "source": [
    "def buildStump(dataArr,classLabels,D):\n",
    "    dataMatrix = np.mat(dataArr);labelMat = np.mat(classLabels).T\n",
    "    m,n = np.shape(dataMatrix)\n",
    "    numSetps = 10.0\n",
    "    bestStump  = {}\n",
    "    bestClasEst = np.mat(np.zeros((m,1)))\n",
    "    minError = np.inf\n",
    "    for i in range(n):\n",
    "        rangeMin = dataMatrix[:,i].min();rangeMax = dataMatrix[:,i].max();\n",
    "        stepSize = (rangeMax - rangeMin)/numSetps\n",
    "        for j in range(-1,int(numSetps) + 1):\n",
    "            for inequal in ['lt','gt']:\n",
    "                threshVal = (rangeMin + float(j) * stepSize)\n",
    "                predictedVals = stumpClassify(dataMatrix,i,threshVal,inequal)\n",
    "                errArr = np.mat(np.ones((m,1)))\n",
    "                errArr[predictedVals == labelMat] = 0\n",
    "                weightedError = D.T*errArr\n",
    "                #print(\"split: dim %d,thresh %.2f,thresh ineqal: %s,the weighted error is %.3f\" % (i,threshVal,inequal,weightedError))\n",
    "                if weightedError < minError:\n",
    "                    minError = weightedError\n",
    "                    bestClasEst = predictedVals.copy()\n",
    "                    bestStump['dim'] = i\n",
    "                    bestStump['thresh'] = threshVal\n",
    "                    bestStump['ineq'] = inequal\n",
    "    return bestStump,minError,bestClasEst"
   ]
  },
  {
   "cell_type": "code",
   "execution_count": 22,
   "metadata": {},
   "outputs": [],
   "source": [
    "dataMat,classLabel = loadSimpData()"
   ]
  },
  {
   "cell_type": "code",
   "execution_count": 23,
   "metadata": {},
   "outputs": [
    {
     "data": {
      "text/plain": [
       "matrix([[0.2],\n",
       "        [0.2],\n",
       "        [0.2],\n",
       "        [0.2],\n",
       "        [0.2]])"
      ]
     },
     "execution_count": 23,
     "metadata": {},
     "output_type": "execute_result"
    }
   ],
   "source": [
    "D = np.mat(np.ones((5,1))/5);D"
   ]
  },
  {
   "cell_type": "code",
   "execution_count": 24,
   "metadata": {},
   "outputs": [
    {
     "name": "stdout",
     "output_type": "stream",
     "text": [
      "split: dim 0,thresh 0.90,thresh ineqal: lt,the weighted error is 0.600\n",
      "split: dim 0,thresh 0.90,thresh ineqal: gt,the weighted error is 0.600\n",
      "split: dim 0,thresh 1.00,thresh ineqal: lt,the weighted error is 0.600\n",
      "split: dim 0,thresh 1.00,thresh ineqal: gt,the weighted error is 0.600\n",
      "split: dim 0,thresh 1.10,thresh ineqal: lt,the weighted error is 0.600\n",
      "split: dim 0,thresh 1.10,thresh ineqal: gt,the weighted error is 0.600\n",
      "split: dim 0,thresh 1.20,thresh ineqal: lt,the weighted error is 0.600\n",
      "split: dim 0,thresh 1.20,thresh ineqal: gt,the weighted error is 0.600\n",
      "split: dim 0,thresh 1.30,thresh ineqal: lt,the weighted error is 0.800\n",
      "split: dim 0,thresh 1.30,thresh ineqal: gt,the weighted error is 0.800\n",
      "split: dim 0,thresh 1.40,thresh ineqal: lt,the weighted error is 0.800\n",
      "split: dim 0,thresh 1.40,thresh ineqal: gt,the weighted error is 0.800\n",
      "split: dim 0,thresh 1.50,thresh ineqal: lt,the weighted error is 0.800\n",
      "split: dim 0,thresh 1.50,thresh ineqal: gt,the weighted error is 0.800\n",
      "split: dim 0,thresh 1.60,thresh ineqal: lt,the weighted error is 0.800\n",
      "split: dim 0,thresh 1.60,thresh ineqal: gt,the weighted error is 0.800\n",
      "split: dim 0,thresh 1.70,thresh ineqal: lt,the weighted error is 0.800\n",
      "split: dim 0,thresh 1.70,thresh ineqal: gt,the weighted error is 0.800\n",
      "split: dim 0,thresh 1.80,thresh ineqal: lt,the weighted error is 0.800\n",
      "split: dim 0,thresh 1.80,thresh ineqal: gt,the weighted error is 0.800\n",
      "split: dim 0,thresh 1.90,thresh ineqal: lt,the weighted error is 0.800\n",
      "split: dim 0,thresh 1.90,thresh ineqal: gt,the weighted error is 0.800\n",
      "split: dim 0,thresh 2.00,thresh ineqal: lt,the weighted error is 0.400\n",
      "split: dim 0,thresh 2.00,thresh ineqal: gt,the weighted error is 0.400\n",
      "split: dim 1,thresh 0.89,thresh ineqal: lt,the weighted error is 0.600\n",
      "split: dim 1,thresh 0.89,thresh ineqal: gt,the weighted error is 0.600\n",
      "split: dim 1,thresh 1.00,thresh ineqal: lt,the weighted error is 0.800\n",
      "split: dim 1,thresh 1.00,thresh ineqal: gt,the weighted error is 0.800\n",
      "split: dim 1,thresh 1.11,thresh ineqal: lt,the weighted error is 0.600\n",
      "split: dim 1,thresh 1.11,thresh ineqal: gt,the weighted error is 0.600\n",
      "split: dim 1,thresh 1.22,thresh ineqal: lt,the weighted error is 0.600\n",
      "split: dim 1,thresh 1.22,thresh ineqal: gt,the weighted error is 0.600\n",
      "split: dim 1,thresh 1.33,thresh ineqal: lt,the weighted error is 0.600\n",
      "split: dim 1,thresh 1.33,thresh ineqal: gt,the weighted error is 0.600\n",
      "split: dim 1,thresh 1.44,thresh ineqal: lt,the weighted error is 0.600\n",
      "split: dim 1,thresh 1.44,thresh ineqal: gt,the weighted error is 0.600\n",
      "split: dim 1,thresh 1.55,thresh ineqal: lt,the weighted error is 0.600\n",
      "split: dim 1,thresh 1.55,thresh ineqal: gt,the weighted error is 0.600\n",
      "split: dim 1,thresh 1.66,thresh ineqal: lt,the weighted error is 0.600\n",
      "split: dim 1,thresh 1.66,thresh ineqal: gt,the weighted error is 0.600\n",
      "split: dim 1,thresh 1.77,thresh ineqal: lt,the weighted error is 0.600\n",
      "split: dim 1,thresh 1.77,thresh ineqal: gt,the weighted error is 0.600\n",
      "split: dim 1,thresh 1.88,thresh ineqal: lt,the weighted error is 0.600\n",
      "split: dim 1,thresh 1.88,thresh ineqal: gt,the weighted error is 0.600\n",
      "split: dim 1,thresh 1.99,thresh ineqal: lt,the weighted error is 0.600\n",
      "split: dim 1,thresh 1.99,thresh ineqal: gt,the weighted error is 0.600\n",
      "split: dim 1,thresh 2.10,thresh ineqal: lt,the weighted error is 0.400\n",
      "split: dim 1,thresh 2.10,thresh ineqal: gt,the weighted error is 0.400\n"
     ]
    },
    {
     "data": {
      "text/plain": [
       "({'dim': 0, 'thresh': 2.0, 'ineq': 'lt'}, matrix([[0.4]]), array([[1.],\n",
       "        [1.],\n",
       "        [1.],\n",
       "        [1.],\n",
       "        [1.]]))"
      ]
     },
     "execution_count": 24,
     "metadata": {},
     "output_type": "execute_result"
    }
   ],
   "source": [
    "buildStump(dataMat,classLabel,D)"
   ]
  },
  {
   "cell_type": "code",
   "execution_count": 54,
   "metadata": {},
   "outputs": [],
   "source": [
    "def adaBoostTrainDS(dataArr,classLabels,numIt = 40):\n",
    "    weakClassArr = []\n",
    "    m = np.shape(dataArr)[0]\n",
    "    D = np.mat(np.ones((m,1))/m)\n",
    "    aggClassEst = np.mat(np.zeros((m,1)))\n",
    "    for i in range(numIt):\n",
    "        bestStump,error,classEst = buildStump(dataArr,classLabels,D)\n",
    "        print(\"D:\",D.T)      \n",
    "        alpha = float(0.5*np.log((1.0-error)/max(error,1e-16)))\n",
    "        bestStump['alpha'] = alpha\n",
    "        weakClassArr.append(bestStump)\n",
    "        print(\"classEst: \",classEst.T)\n",
    "        expon = np.multiply(-1*alpha*np.mat(classLabels).T,classEst)\n",
    "        D = np.multiply(D,np.exp(expon))\n",
    "        D = D/D.sum()\n",
    "        aggClassEst += alpha * classEst\n",
    "        print(\"aggClassEst: \",aggClassEst.T)\n",
    "        aggErrors = np.multiply(np.sign(aggClassEst) != np.mat(classLabels).T,np.ones((m,1)))\n",
    "        errorRate = aggErrors.sum()/m\n",
    "        print(\"total error: \",errorRate,\"\\n\")\n",
    "        if errorRate == 0.0: break\n",
    "    return weakClassArr"
   ]
  },
  {
   "cell_type": "code",
   "execution_count": 55,
   "metadata": {
    "scrolled": true
   },
   "outputs": [
    {
     "name": "stdout",
     "output_type": "stream",
     "text": [
      "D: [[0.2 0.2 0.2 0.2 0.2]]\n",
      "classEst:  [[1. 1. 1. 1. 1.]]\n",
      "aggClassEst:  [[0.20273255 0.20273255 0.20273255 0.20273255 0.20273255]]\n",
      "total error:  0.4 \n",
      "\n",
      "D: [[0.16666667 0.16666667 0.25       0.25       0.16666667]]\n",
      "classEst:  [[1. 1. 1. 1. 1.]]\n",
      "aggClassEst:  [[0.20273255 0.20273255 0.20273255 0.20273255 0.20273255]]\n",
      "total error:  0.4 \n",
      "\n",
      "D: [[0.16666667 0.16666667 0.25       0.25       0.16666667]]\n",
      "classEst:  [[-1. -1. -1. -1. -1.]]\n",
      "aggClassEst:  [[0.20273255 0.20273255 0.20273255 0.20273255 0.20273255]]\n",
      "total error:  0.4 \n",
      "\n",
      "D: [[0.16666667 0.16666667 0.25       0.25       0.16666667]]\n",
      "classEst:  [[-1. -1. -1. -1. -1.]]\n",
      "aggClassEst:  [[0.20273255 0.20273255 0.20273255 0.20273255 0.20273255]]\n",
      "total error:  0.4 \n",
      "\n",
      "D: [[0.16666667 0.16666667 0.25       0.25       0.16666667]]\n",
      "classEst:  [[-1. -1. -1. -1. -1.]]\n",
      "aggClassEst:  [[0.20273255 0.20273255 0.20273255 0.20273255 0.20273255]]\n",
      "total error:  0.4 \n",
      "\n",
      "D: [[0.16666667 0.16666667 0.25       0.25       0.16666667]]\n",
      "classEst:  [[-1. -1. -1. -1. -1.]]\n",
      "aggClassEst:  [[0.20273255 0.20273255 0.20273255 0.20273255 0.20273255]]\n",
      "total error:  0.4 \n",
      "\n",
      "D: [[0.16666667 0.16666667 0.25       0.25       0.16666667]]\n",
      "classEst:  [[-1. -1. -1. -1. -1.]]\n",
      "aggClassEst:  [[0.20273255 0.20273255 0.20273255 0.20273255 0.20273255]]\n",
      "total error:  0.4 \n",
      "\n",
      "D: [[0.16666667 0.16666667 0.25       0.25       0.16666667]]\n",
      "classEst:  [[-1. -1. -1. -1. -1.]]\n",
      "aggClassEst:  [[0.20273255 0.20273255 0.20273255 0.20273255 0.20273255]]\n",
      "total error:  0.4 \n",
      "\n",
      "D: [[0.16666667 0.16666667 0.25       0.25       0.16666667]]\n",
      "classEst:  [[-1. -1. -1. -1. -1.]]\n",
      "aggClassEst:  [[0.20273255 0.20273255 0.20273255 0.20273255 0.20273255]]\n",
      "total error:  0.4 \n",
      "\n"
     ]
    }
   ],
   "source": [
    "classifierArray = adaBoostTrainDS(dataMat,classLabel,9)"
   ]
  },
  {
   "cell_type": "code",
   "execution_count": null,
   "metadata": {},
   "outputs": [],
   "source": []
  }
 ],
 "metadata": {
  "kernelspec": {
   "display_name": "Python 3",
   "language": "python",
   "name": "python3"
  },
  "language_info": {
   "codemirror_mode": {
    "name": "ipython",
    "version": 3
   },
   "file_extension": ".py",
   "mimetype": "text/x-python",
   "name": "python",
   "nbconvert_exporter": "python",
   "pygments_lexer": "ipython3",
   "version": "3.6.5"
  }
 },
 "nbformat": 4,
 "nbformat_minor": 2
}
