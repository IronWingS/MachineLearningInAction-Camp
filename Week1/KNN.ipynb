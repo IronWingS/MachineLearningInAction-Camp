{
 "cells": [
  {
   "cell_type": "code",
   "execution_count": 1,
   "metadata": {},
   "outputs": [],
   "source": [
    "import numpy as np"
   ]
  },
  {
   "cell_type": "code",
   "execution_count": 2,
   "metadata": {},
   "outputs": [],
   "source": [
    "def classify0(inX,dataSet,labels,k):\n",
    "    m = np.shape(dataSet)[0] \n",
    "    dataDiff = np.tile(inX,(m,1)) - dataSet\n",
    "    dataSqr = dataDiff ** 2\n",
    "    distance = (dataSqr.sum(1)) ** 0.5\n",
    "    sortedDistIndex = distance.argsort()\n",
    "    classCount = {}\n",
    "    for i in range(k):\n",
    "        vetoLable = labels[dataInde[i]]\n",
    "        classCount[vetoLable] = classCount.get(vetoLable,0) + 1 #得到字典里vetoLabel的个数，如果没有，默认赋0\n",
    "    result = sorted(classCount.items(),key=operator.itemgetter(1),reverse=True) #返回的是一个列表，字典里的一个kv对，变成了列表里的一个tuple\n",
    "                                #这里插一句，python3废除了iteritems方法\n",
    "    return result[0][0] #返回数量最多的类"
   ]
  },
  {
   "cell_type": "code",
   "execution_count": null,
   "metadata": {},
   "outputs": [],
   "source": []
  }
 ],
 "metadata": {
  "kernelspec": {
   "display_name": "Python 3",
   "language": "python",
   "name": "python3"
  },
  "language_info": {
   "codemirror_mode": {
    "name": "ipython",
    "version": 3
   },
   "file_extension": ".py",
   "mimetype": "text/x-python",
   "name": "python",
   "nbconvert_exporter": "python",
   "pygments_lexer": "ipython3",
   "version": "3.6.5"
  }
 },
 "nbformat": 4,
 "nbformat_minor": 2
}
